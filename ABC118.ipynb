{
 "cells": [
  {
   "cell_type": "code",
   "execution_count": 1,
   "metadata": {},
   "outputs": [
    {
     "name": "stdin",
     "output_type": "stream",
     "text": [
      " 4 12\n"
     ]
    },
    {
     "name": "stdout",
     "output_type": "stream",
     "text": [
      "16\n"
     ]
    }
   ],
   "source": [
    "(a, b) = map(int, input().split())\n",
    "print(a + b if b % a == 0 else b - a)"
   ]
  },
  {
   "cell_type": "code",
   "execution_count": 2,
   "metadata": {},
   "outputs": [
    {
     "name": "stdin",
     "output_type": "stream",
     "text": [
      " 1 30\n",
      " 3 5 10 30\n"
     ]
    },
    {
     "name": "stdout",
     "output_type": "stream",
     "text": [
      "3\n"
     ]
    }
   ],
   "source": [
    "(n, m) = map(int, input().split())\n",
    "l = [set(list(map(int, input().split()))[1:]) for _ in range(n)]\n",
    "print(len(l[0].intersection(*l[1:])))"
   ]
  },
  {
   "cell_type": "code",
   "execution_count": 8,
   "metadata": {},
   "outputs": [
    {
     "name": "stdin",
     "output_type": "stream",
     "text": [
      " 4\n",
      " 5 13 8 1000000000\n"
     ]
    },
    {
     "name": "stdout",
     "output_type": "stream",
     "text": [
      "1\n"
     ]
    }
   ],
   "source": [
    "def calc(a):\n",
    "    m = min(a)\n",
    "    b = [i % m for i in a if i % m != 0]\n",
    "    if b:\n",
    "        return calc(b+[m])\n",
    "    else:\n",
    "        return min(a)\n",
    "      \n",
    "_ = int(input())\n",
    "print(calc(list(map(int, input().split()))))"
   ]
  },
  {
   "cell_type": "code",
   "execution_count": null,
   "metadata": {},
   "outputs": [
    {
     "name": "stdin",
     "output_type": "stream",
     "text": [
      " 101 9\n",
      " 9 8 7 6 5 4 3 2 1\n"
     ]
    }
   ],
   "source": [
    "import itertools\n",
    "import numpy as np\n",
    "\n",
    "(n, _) = map(int, input().split())\n",
    "a = sorted(list(map(int, input().split())))\n",
    "match = [2,5,5,4,5,6,3,7,6]\n",
    "l = [j for i, j in zip(range(1, 10), match) if i in a]\n",
    "mm = {j: i for i, j in zip(a, l)}\n",
    "sorted(mm.items(), key=lambda x: x[1], reverse=True)\n",
    "b = [i for i in itertools.combinations_with_replacement(l+[0], n//min(a)) if sum(i) == n]\n",
    "m = max([np.count_nonzero(i) for i in b])\n",
    "c = [i for i in b if np.count_nonzero(i) == m]\n",
    "d = [sorted([mm[j] for j in i if j != 0], reverse=True) for i in c]\n",
    "print(max([int(\"\".join(map(str, i))) for i in d]))"
   ]
  },
  {
   "cell_type": "code",
   "execution_count": null,
   "metadata": {},
   "outputs": [],
   "source": []
  }
 ],
 "metadata": {
  "kernelspec": {
   "display_name": "Python 3",
   "language": "python",
   "name": "python3"
  },
  "language_info": {
   "codemirror_mode": {
    "name": "ipython",
    "version": 3
   },
   "file_extension": ".py",
   "mimetype": "text/x-python",
   "name": "python",
   "nbconvert_exporter": "python",
   "pygments_lexer": "ipython3",
   "version": "3.4.3"
  }
 },
 "nbformat": 4,
 "nbformat_minor": 2
}
