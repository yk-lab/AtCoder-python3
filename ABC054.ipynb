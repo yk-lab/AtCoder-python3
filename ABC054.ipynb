{
 "cells": [
  {
   "cell_type": "markdown",
   "metadata": {},
   "source": [
    "# ABC054"
   ]
  },
  {
   "cell_type": "markdown",
   "metadata": {},
   "source": [
    "## A - One Card Poker\n",
    "[詳細](https://abc054.contest.atcoder.jp/tasks/abc054_a)"
   ]
  },
  {
   "cell_type": "code",
   "execution_count": 3,
   "metadata": {},
   "outputs": [
    {
     "name": "stdout",
     "output_type": "stream",
     "text": [
      "Bob\n"
     ]
    }
   ],
   "source": [
    "A, B = list(map(int, input().split()))\n",
    "A = 14 if A == 1 else A\n",
    "B = 14 if B == 1 else B\n",
    "print('Alice' if A > B else 'Bob' if A < B else 'Draw')"
   ]
  },
  {
   "cell_type": "markdown",
   "metadata": {},
   "source": [
    "## B - [Template Matching](https://abc054.contest.atcoder.jp/tasks/abc054_b)"
   ]
  },
  {
   "cell_type": "code",
   "execution_count": 84,
   "metadata": {},
   "outputs": [
    {
     "name": "stdout",
     "output_type": "stream",
     "text": [
      "Yes\n"
     ]
    }
   ],
   "source": [
    "from itertools import product\n",
    "N, M = list(map(int, input().split()))\n",
    "A = [list(input()) for _ in range(N)]\n",
    "B = [list(input()) for _ in range(M)]\n",
    "flag = False\n",
    "\n",
    "for _i, _j in product(range(N - M + 1), range(N - M + 1)):\n",
    "    if A[_i][_j] == B[0][0] and [_A[_j:_j+M] for _A in A[_i:_i+M]] == B:\n",
    "        flag = True\n",
    "        break\n",
    "if flag:\n",
    "    print('Yes')\n",
    "else:\n",
    "    print('No')"
   ]
  },
  {
   "cell_type": "markdown",
   "metadata": {},
   "source": [
    "## C - [One-stroke Path](https://abc054.contest.atcoder.jp/tasks/abc054_c)"
   ]
  },
  {
   "cell_type": "code",
   "execution_count": 277,
   "metadata": {},
   "outputs": [
    {
     "name": "stdout",
     "output_type": "stream",
     "text": [
      "2\n"
     ]
    }
   ],
   "source": [
    "import numpy as np\n",
    "N, M = list(map(int, input().split()))\n",
    "mtr = np.zeros((N, N), dtype=np.bool)\n",
    "for _ in range(M):\n",
    "    a, b = list(map(int, input().split()))\n",
    "    mtr[a-1][b-1] = 1\n",
    "    mtr[b-1][a-1] = 1\n",
    "def v(i=0):\n",
    "    return [_i for _i, _j in enumerate(mtr[i]) if _j]\n",
    "def search_path(node, done):\n",
    "    _d = done.copy()\n",
    "    _d[node] = True\n",
    "    if False not in _d:\n",
    "        return [True]\n",
    "    flag = [False]\n",
    "    _v = [_i for _i in v(node) if not _d[_i]]\n",
    "    if _v == []:\n",
    "        return [False]\n",
    "    return(np.concatenate([search_path(_i, _d) for _i in _v]))\n",
    "print(list(search_path(0, np.zeros(N, dtype=np.bool))).count(True))"
   ]
  },
  {
   "cell_type": "markdown",
   "metadata": {},
   "source": [
    "## D - [Mixing Experiment](https://abc054.contest.atcoder.jp/tasks/abc054_d)"
   ]
  },
  {
   "cell_type": "code",
   "execution_count": 309,
   "metadata": {},
   "outputs": [
    {
     "name": "stdout",
     "output_type": "stream",
     "text": [
      "3\n"
     ]
    }
   ],
   "source": [
    "from itertools import combinations\n",
    "N, Ma, Mb = list(map(int, input().split()))\n",
    "abc = [list(map(int, input().split())) for _ in range(N)]"
   ]
  },
  {
   "cell_type": "code",
   "execution_count": 327,
   "metadata": {},
   "outputs": [
    {
     "name": "stdout",
     "output_type": "stream",
     "text": [
      "13\n"
     ]
    }
   ],
   "source": [
    "min_cost = -1\n",
    "tmp = {}\n",
    "queue = list(range(N))\n",
    "for _i in range(1, N+1):\n",
    "    _q = queue.pop(0)\n",
    "    _tmp = tmp.get(_q, None)\n",
    "    range(_q[-1], N)\n",
    "    for _j in all_pattern:\n",
    "        _a = sum([abc[_k][0] for _k in _j])\n",
    "        _b = sum([abc[_k][1] for _k in _j])\n",
    "        _c = sum([abc[_k][2] for _k in _j])\n",
    "        if _b * Ma == _a * Mb:\n",
    "            tmp[_j] = (_a, _b, _c, True)\n",
    "            if min_cost == -1 or min_cost > _c:\n",
    "                min_cost = _c\n",
    "        else:\n",
    "            tmp[_j] = (_a, _b, _c, False)\n",
    "print(min_cost)"
   ]
  },
  {
   "cell_type": "code",
   "execution_count": 328,
   "metadata": {},
   "outputs": [
    {
     "data": {
      "text/plain": [
       "[0, 1, 2]"
      ]
     },
     "execution_count": 328,
     "metadata": {},
     "output_type": "execute_result"
    }
   ],
   "source": [
    "queue"
   ]
  },
  {
   "cell_type": "code",
   "execution_count": 317,
   "metadata": {},
   "outputs": [
    {
     "data": {
      "text/plain": [
       "[3, 3, 10]"
      ]
     },
     "execution_count": 317,
     "metadata": {},
     "output_type": "execute_result"
    }
   ],
   "source": [
    "c_max = abc[np.array([_i[2] for _i in abc]).argmax()]\n",
    "c_max"
   ]
  },
  {
   "cell_type": "code",
   "execution_count": 318,
   "metadata": {},
   "outputs": [
    {
     "data": {
      "text/plain": [
       "{(0,): (1, 2, 1, False),\n",
       " (1,): (2, 1, 2, False),\n",
       " (2,): (3, 3, 10, True),\n",
       " (0, 1): (3, 3, 3, True),\n",
       " (0, 2): (4, 5, 11, False),\n",
       " (1, 2): (5, 4, 12, False),\n",
       " (0, 1, 2): (6, 6, 13, True)}"
      ]
     },
     "execution_count": 318,
     "metadata": {},
     "output_type": "execute_result"
    }
   ],
   "source": [
    "tmp"
   ]
  },
  {
   "cell_type": "code",
   "execution_count": 319,
   "metadata": {},
   "outputs": [],
   "source": [
    "t = (0, 1, 2)"
   ]
  },
  {
   "cell_type": "code",
   "execution_count": 320,
   "metadata": {},
   "outputs": [
    {
     "data": {
      "text/plain": [
       "(1, 2, 1, False)"
      ]
     },
     "execution_count": 320,
     "metadata": {},
     "output_type": "execute_result"
    }
   ],
   "source": [
    "tmp[t[0:-2]]"
   ]
  },
  {
   "cell_type": "code",
   "execution_count": 322,
   "metadata": {},
   "outputs": [
    {
     "data": {
      "text/plain": [
       "[0, 1, 2]"
      ]
     },
     "execution_count": 322,
     "metadata": {},
     "output_type": "execute_result"
    }
   ],
   "source": [
    "list(range(3))"
   ]
  },
  {
   "cell_type": "code",
   "execution_count": null,
   "metadata": {},
   "outputs": [],
   "source": []
  }
 ],
 "metadata": {
  "kernelspec": {
   "display_name": "Python 3",
   "language": "python",
   "name": "python3"
  },
  "language_info": {
   "codemirror_mode": {
    "name": "ipython",
    "version": 3
   },
   "file_extension": ".py",
   "mimetype": "text/x-python",
   "name": "python",
   "nbconvert_exporter": "python",
   "pygments_lexer": "ipython3",
   "version": "3.6.5"
  }
 },
 "nbformat": 4,
 "nbformat_minor": 2
}
