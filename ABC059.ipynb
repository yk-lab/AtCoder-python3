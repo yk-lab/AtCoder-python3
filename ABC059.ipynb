{
 "cells": [
  {
   "cell_type": "markdown",
   "metadata": {},
   "source": [
    "# AtCoder Beginner Contest 059\n",
    "[解説](https://atcoder.jp/img/arc072/editorial.pdf)"
   ]
  },
  {
   "cell_type": "markdown",
   "metadata": {},
   "source": [
    "## A"
   ]
  },
  {
   "cell_type": "code",
   "execution_count": 8,
   "metadata": {},
   "outputs": [
    {
     "name": "stdout",
     "output_type": "stream",
     "text": [
      "KNN\n"
     ]
    }
   ],
   "source": [
    "s = input().split()\n",
    "print(\"\".join([s[_i][0] for _i in range(3)]).upper())"
   ]
  },
  {
   "cell_type": "markdown",
   "metadata": {},
   "source": [
    "## B - Comparison"
   ]
  },
  {
   "cell_type": "code",
   "execution_count": 11,
   "metadata": {},
   "outputs": [
    {
     "name": "stdout",
     "output_type": "stream",
     "text": [
      "LESS\n"
     ]
    }
   ],
   "source": [
    "s = [input() for _ in range(2)]\n",
    "i = list(map(int, s))\n",
    "print('GREATER' if i[0] > i[1] else 'LESS' if i[0] < i[1] else 'EQUAL')"
   ]
  },
  {
   "cell_type": "markdown",
   "metadata": {},
   "source": [
    "## C - Sequence"
   ]
  },
  {
   "cell_type": "code",
   "execution_count": 21,
   "metadata": {},
   "outputs": [
    {
     "name": "stdout",
     "output_type": "stream",
     "text": [
      "8\n"
     ]
    }
   ],
   "source": [
    "i = int(input())\n",
    "j = list(map(int, input().split()))\n",
    "tmp1 = tmp2 = 0\n",
    "ans1 = ans2 = 0\n",
    "for _i in range(i):\n",
    "    tmp1 += j[_i]\n",
    "    tmp2 += j[_i]\n",
    "    if (_i % 2) == 0:\n",
    "        if tmp1 <= 0:\n",
    "            ans1 += 1 - tmp1\n",
    "            tmp1 = 1\n",
    "        if tmp2 >= 0:\n",
    "            ans2 += tmp2 + 1\n",
    "            tmp2 = -1\n",
    "    else:\n",
    "        if tmp1 >= 0:\n",
    "            ans1 += tmp1 + 1\n",
    "            tmp1 = -1\n",
    "        if tmp2 <= 0:\n",
    "            ans2 += 1 - tmp2\n",
    "            tmp2 = 1\n",
    "print(min(ans1, ans2))"
   ]
  },
  {
   "cell_type": "markdown",
   "metadata": {},
   "source": [
    "## D - Alice&Brown\n",
    "### 問題文\n",
    "AliceとBrownはゲームをするのが好きです。今日は以下のゲームを思いつきました。\n",
    "\n",
    "2つの山があり、はじめにX,Y個の石が置かれています。 AliceとBrownは毎ターン以下の操作を交互に行い、操作を行えなくなったプレイヤーは負けとなります。\n",
    "\n",
    "片方の山から 2i 個の石を取り、そのうち i 個の石を捨て、残りの i 個の石をもう片方の山に置く。ここで、整数 i(1≦i) の値は山に十分な個数の石がある範囲で自由に選ぶことができる。\n",
    "Aliceが先手で、二人とも最適にプレイすると仮定したとき、与えられた X,Y に対しどちらのプレイヤーが勝つか求めてください。\n",
    "\n",
    "[詳細](https://abc059.contest.atcoder.jp/tasks/arc072_b)"
   ]
  },
  {
   "cell_type": "code",
   "execution_count": null,
   "metadata": {},
   "outputs": [],
   "source": [
    "i = map(int, input().split())"
   ]
  }
 ],
 "metadata": {
  "kernelspec": {
   "display_name": "Python 3",
   "language": "python",
   "name": "python3"
  },
  "language_info": {
   "codemirror_mode": {
    "name": "ipython",
    "version": 3
   },
   "file_extension": ".py",
   "mimetype": "text/x-python",
   "name": "python",
   "nbconvert_exporter": "python",
   "pygments_lexer": "ipython3",
   "version": "3.6.5"
  }
 },
 "nbformat": 4,
 "nbformat_minor": 2
}
