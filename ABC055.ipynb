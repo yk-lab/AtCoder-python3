{
 "cells": [
  {
   "cell_type": "markdown",
   "metadata": {},
   "source": [
    "# ABC055\n",
    "[解説](https://atcoder.jp/img/arc069/editorial.pdf)"
   ]
  },
  {
   "cell_type": "markdown",
   "metadata": {},
   "source": [
    "## A - Restaurant\n",
    "### 問題文\n",
    "> すぬけくんはレストランに通うのが好きです。\n",
    "> \n",
    "> すぬけくん行きつけのレストランは何を食べても 1 食 800 円で、15 食食べる毎にその場で 200 円もらえます。\n",
    "> \n",
    "> すぬけくんは今までで合計 N 食食べました。 今までに払った金額を x 円、レストランからもらった金額を y 円として、x−y を求めなさい。\n",
    "\n",
    "[詳細](https://abc055.contest.atcoder.jp/tasks/abc055_a)"
   ]
  },
  {
   "cell_type": "code",
   "execution_count": 2,
   "metadata": {},
   "outputs": [
    {
     "name": "stdout",
     "output_type": "stream",
     "text": [
      "47200\n"
     ]
    }
   ],
   "source": [
    "N = int(input())\n",
    "print(800 * N - (N//15) * 200)"
   ]
  },
  {
   "cell_type": "markdown",
   "metadata": {},
   "source": [
    "## B - Training Camp\n",
    "### 問題文\n",
    "> すぬけくんはトレーニングが好きなので N 回だけトレーニングすることにしました。\n",
    "> \n",
    "> すぬけくんのトレーニング開始前のパワーは 1 です。すぬけくんが i 回目のトレーニングを終えるとパワーが i 倍されます。\n",
    "> \n",
    "> すぬけくんが N 回トレーニングをしたあとのパワーを求めなさい。ただし、答えの値は非常に大きな値になることがあるので 10^9+7 で割ったあまりを出力してください。\n",
    "\n",
    "[詳細](https://abc055.contest.atcoder.jp/tasks/abc055_b)"
   ]
  },
  {
   "cell_type": "code",
   "execution_count": 12,
   "metadata": {},
   "outputs": [
    {
     "name": "stdout",
     "output_type": "stream",
     "text": [
      "457992974\n"
     ]
    }
   ],
   "source": [
    "import math\n",
    "N = int(input())\n",
    "print(math.factorial(N)%(10**9+7))"
   ]
  },
  {
   "cell_type": "markdown",
   "metadata": {},
   "source": [
    "## C - Scc Puzzle\n",
    "### 問題文\n",
    "> すぬけくんはパズルが好きです。\n",
    "> \n",
    "> 今日は S と c の形をしたピースを使ったパズルで遊んでいます。 このパズルでは図のように c 型のピースを 2 つ組み合わせて S 型のピースを 1 つ作ることができます。\n",
    "> \n",
    "> 9b0bd546db9f28b4093d417b8f274124.png\n",
    "> すぬけくんは S 型のピースを 1 つ、c 型のピースを 2 つ組み合わせて Scc という組を可能な限り多く作ることにしました。\n",
    "> \n",
    "> すぬけくんが N 個の S 型のピースと M 個の c 型のピースを持っているとき、Scc という組を最大でいくつ作ることが可能か求めなさい。\n",
    "\n",
    "[詳細](https://abc055.contest.atcoder.jp/tasks/arc069_a)"
   ]
  },
  {
   "cell_type": "code",
   "execution_count": 16,
   "metadata": {},
   "outputs": [
    {
     "name": "stdout",
     "output_type": "stream",
     "text": [
      "1\n"
     ]
    }
   ],
   "source": [
    "N, M = list(map(int, input().split()))\n",
    "if M > 2 * N:\n",
    "    A = M - 2 * N\n",
    "    print(N + (A // 4))\n",
    "else:\n",
    "    print(M//2)"
   ]
  },
  {
   "cell_type": "markdown",
   "metadata": {},
   "source": [
    "## D - Menagerie\n",
    "### 問題文\n",
    "> すぬけくんは動物が好きなので動物園を作りました。\n",
    "> \n",
    "> この動物園では 1,2,3,…,N の番号を割り振られた N 匹の動物が円環状に並べられています。 i(2≦i≦N−1) 番の動物は i−1 番の動物と i+1 番の動物と隣り合っています。また、1 番の動物は N 番の動物と 2 番の動物と隣り合っており、N 番の動物は N−1 番の動物と 1 番の動物と隣り合っています。\n",
    "> \n",
    "> 動物園には本当のことしか言わない正直者の羊と、嘘しか言わない嘘つきの狼の 2 種類の動物がいます。\n",
    "> \n",
    "> すぬけくんには羊と狼の区別がつかないので、それぞれの動物に両隣の動物が同じ種類かどうかを訪ねたところ、i 番目の動物は si と答えました。si が o ならば両隣の動物が同じ種類であると、x ならば異なる種類であると i 番の動物が言ったことを示します。\n",
    "> \n",
    "> より形式的には、羊は両隣の動物がどちらも羊あるいはどちらも狼のとき `o` と答え、そうでないとき `x` と答えます。 狼は両隣の動物がどちらも羊あるいはどちらも狼のとき `x` と答え、そうでないとき `o` と答えます。\n",
    "> \n",
    "> これらの回答結果と矛盾しないような各動物の種別の割り当てが存在するか、すぬけくんは気になっています。存在するならば一例を示し、存在しないならば `-1` を出力しなさい。\n",
    "\n",
    "[詳細](https://abc055.contest.atcoder.jp/tasks/arc069_b)"
   ]
  },
  {
   "cell_type": "code",
   "execution_count": 13,
   "metadata": {},
   "outputs": [
    {
     "name": "stdout",
     "output_type": "stream",
     "text": [
      "-1\n"
     ]
    }
   ],
   "source": [
    "# 解説読んだらできました…\n",
    "import sys\n",
    "N = int(input())\n",
    "s = input()\n",
    "r = ['SS', 'SW', 'WS', 'WW']\n",
    "flag = [False, False]\n",
    "for _i in range(4):\n",
    "    for _j in range(1, N-1):\n",
    "        if (s[_j] == 'o' and r[_i][_j] == 'S') or (s[_j] == 'x' and r[_i][_j] == 'W'):\n",
    "            r[_i] += r[_i][_j-1]\n",
    "        else:\n",
    "            if r[_i][_j] == 'W':\n",
    "                if r[_i][_j-1] == 'S':\n",
    "                    r[_i] += 'W'\n",
    "                else:\n",
    "                    r[_i] += 'S'\n",
    "            if r[_i][_j] == 'S':\n",
    "                if r[_i][_j-1] == 'W':\n",
    "                    r[_i] += 'S'\n",
    "                else:\n",
    "                    r[_i] += 'W'\n",
    "    if (s[N-1] == 'o' and r[_i][N-1] == 'S') or (s[N-1] == 'x' and r[_i][N-1] == 'W'):\n",
    "        if r[_i][N-2] == r[_i][0]:\n",
    "            flag[0] = True\n",
    "    else:\n",
    "        if r[_i][N-2] != r[_i][0]:\n",
    "            flag[0] = True\n",
    "    if flag[0]:\n",
    "            if (s[0] == 'o' and r[_i][0] == 'S') or (s[0] == 'x' and r[_i][0] == 'W'):\n",
    "                if r[_i][N-1] == r[_i][1]:\n",
    "                    flag[1] = True\n",
    "            else:\n",
    "                if r[_i][N-1] != r[_i][1]:\n",
    "                    flag[1] = True\n",
    "    if flag[0] and flag[1]:\n",
    "        print(r[_i])\n",
    "        break\n",
    "    else:\n",
    "        flag = [False, False]\n",
    "if not(flag[0]) and not(flag[1]):\n",
    "    print(-1)"
   ]
  },
  {
   "cell_type": "code",
   "execution_count": null,
   "metadata": {},
   "outputs": [],
   "source": []
  }
 ],
 "metadata": {
  "kernelspec": {
   "display_name": "Python 3",
   "language": "python",
   "name": "python3"
  },
  "language_info": {
   "codemirror_mode": {
    "name": "ipython",
    "version": 3
   },
   "file_extension": ".py",
   "mimetype": "text/x-python",
   "name": "python",
   "nbconvert_exporter": "python",
   "pygments_lexer": "ipython3",
   "version": "3.6.5"
  }
 },
 "nbformat": 4,
 "nbformat_minor": 2
}
