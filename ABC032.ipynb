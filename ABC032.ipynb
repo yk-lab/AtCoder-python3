{
 "cells": [
  {
   "cell_type": "markdown",
   "metadata": {},
   "source": [
    "## A\n",
    "RE"
   ]
  },
  {
   "cell_type": "code",
   "execution_count": 28,
   "metadata": {},
   "outputs": [
    {
     "name": "stdout",
     "output_type": "stream",
     "text": [
      "48\n"
     ]
    }
   ],
   "source": [
    "from math import gcd, ceil\n",
    "\n",
    "a = int(input())\n",
    "b = int(input())\n",
    "n = int(input())\n",
    "\n",
    "c = gcd(a, b)\n",
    "d = c*ceil(n/c)\n",
    "while d < n or d%a!=0 or d%b!=0:\n",
    "    d += c\n",
    "print(d)"
   ]
  },
  {
   "cell_type": "markdown",
   "metadata": {},
   "source": [
    "## B"
   ]
  },
  {
   "cell_type": "code",
   "execution_count": 33,
   "metadata": {},
   "outputs": [
    {
     "name": "stdout",
     "output_type": "stream",
     "text": [
      "1\n"
     ]
    }
   ],
   "source": [
    "s = input()\n",
    "k = int(input())\n",
    "\n",
    "if len(s) < k:\n",
    "    print(0)\n",
    "else:\n",
    "    r = set()\n",
    "    for i in range(len(s)-k+1):\n",
    "        r.add(s[0+i:k+i])\n",
    "    print(len(r))"
   ]
  },
  {
   "cell_type": "markdown",
   "metadata": {},
   "source": [
    "## C"
   ]
  },
  {
   "cell_type": "code",
   "execution_count": 54,
   "metadata": {},
   "outputs": [
    {
     "name": "stdout",
     "output_type": "stream",
     "text": [
      "4\n"
     ]
    }
   ],
   "source": [
    "N, K = list(map(int, input().split()))\n",
    "S = list(map(int, [input() for _ in range(N)]))\n",
    "\n",
    "max_len = 0\n",
    "i = 0\n",
    "k = 1\n",
    "if 0 in S:\n",
    "    max_len = N\n",
    "else:\n",
    "    for n in range(N):\n",
    "        k *= S[n]\n",
    "        if k <= K:\n",
    "            if max_len < n - i + 1:\n",
    "                max_len = n - i + 1\n",
    "        else:\n",
    "            k /= S[i]\n",
    "            i+=1\n",
    "            if k < K:\n",
    "                if max_len < n - i + 1:\n",
    "                    max_len = n - i + 1\n",
    "print(max_len)"
   ]
  },
  {
   "cell_type": "code",
   "execution_count": 55,
   "metadata": {},
   "outputs": [
    {
     "name": "stdout",
     "output_type": "stream",
     "text": [
      "1\n"
     ]
    }
   ],
   "source": [
    "N, K = list(map(int, input().split()))\n",
    "S = list(map(int, [input() for _ in range(N)]))\n",
    "\n",
    "max_len = 0\n",
    "i = 0\n",
    "k = 1\n",
    "if 0 in S:\n",
    "    max_len = N\n",
    "else:\n",
    "    for n in range(N):\n",
    "        k *= S[n]\n",
    "        if k <= K:\n",
    "            if max_len < n - i + 1:\n",
    "                max_len = n - i + 1\n",
    "        else:\n",
    "            while k > K:\n",
    "                k /= S[i]\n",
    "                i+=1\n",
    "            if max_len < n - i + 1:\n",
    "                max_len = n - i + 1\n",
    "print(max_len)"
   ]
  },
  {
   "cell_type": "code",
   "execution_count": null,
   "metadata": {},
   "outputs": [],
   "source": []
  }
 ],
 "metadata": {
  "kernelspec": {
   "display_name": "Python 3",
   "language": "python",
   "name": "python3"
  },
  "language_info": {
   "codemirror_mode": {
    "name": "ipython",
    "version": 3
   },
   "file_extension": ".py",
   "mimetype": "text/x-python",
   "name": "python",
   "nbconvert_exporter": "python",
   "pygments_lexer": "ipython3",
   "version": "3.6.5"
  }
 },
 "nbformat": 4,
 "nbformat_minor": 2
}
