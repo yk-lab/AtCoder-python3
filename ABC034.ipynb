{
 "cells": [
  {
   "cell_type": "markdown",
   "metadata": {},
   "source": [
    "# ABC034"
   ]
  },
  {
   "cell_type": "markdown",
   "metadata": {},
   "source": [
    "## A"
   ]
  },
  {
   "cell_type": "code",
   "execution_count": 1,
   "metadata": {},
   "outputs": [
    {
     "name": "stdout",
     "output_type": "stream",
     "text": [
      "Worse\n"
     ]
    }
   ],
   "source": [
    "x, y = list(map(int, input().split()))\n",
    "print('Better' if x < y else 'Worse')"
   ]
  },
  {
   "cell_type": "markdown",
   "metadata": {},
   "source": [
    "## B"
   ]
  },
  {
   "cell_type": "code",
   "execution_count": 2,
   "metadata": {},
   "outputs": [
    {
     "name": "stdout",
     "output_type": "stream",
     "text": [
      "123456790\n"
     ]
    }
   ],
   "source": [
    "n = int(input())\n",
    "print(n - 1 if n % 2 == 0 else n + 1)"
   ]
  },
  {
   "cell_type": "markdown",
   "metadata": {},
   "source": [
    "## C"
   ]
  },
  {
   "cell_type": "code",
   "execution_count": 10,
   "metadata": {},
   "outputs": [
    {
     "name": "stdout",
     "output_type": "stream",
     "text": [
      "210368064\n"
     ]
    }
   ],
   "source": [
    "import math\n",
    "\n",
    "def pow(a, b, p):\n",
    "    if b == 0:\n",
    "        return 1\n",
    "    elif b % 2 == 0:\n",
    "        _tmp = pow(a, b/2, p)\n",
    "        return (_tmp*_tmp)%p\n",
    "    elif b % 2 == 1:\n",
    "        return (a * pow(a, b-1, p))%p\n",
    "\n",
    "W, H = list(map(int, input().split()))\n",
    "print((math.factorial(W+H-2)%1000000007*pow(math.factorial(W-1)*math.factorial(H-1), 1000000005, 1000000007))%1000000007)"
   ]
  },
  {
   "cell_type": "markdown",
   "metadata": {},
   "source": [
    "## D - 食塩水"
   ]
  },
  {
   "cell_type": "code",
   "execution_count": 120,
   "metadata": {},
   "outputs": [
    {
     "name": "stdout",
     "output_type": "stream",
     "text": [
      "25.0\n"
     ]
    }
   ],
   "source": [
    "import numpy as np\n",
    "def check(wp, K, p):\n",
    "    c = np.insert(wp, 2, [0]*len(wp), axis=1).astype('float128')\n",
    "    for _wp in c:\n",
    "        _wp[2] = (_wp[0] * (_wp[1]-p)/100)\n",
    "    return np.array([np.sort(c, axis=0)[::-1][0:K, 2]]).sum(axis=1)[0] >= 0\n",
    "\n",
    "N, K = list(map(int, input().split()))\n",
    "wp = np.array([list(map(int, input().split())) for _ in range(N)])\n",
    "\n",
    "ok = 0\n",
    "ng = 100\n",
    "for _ in range(100):\n",
    "    mid = (ok + ng)/2\n",
    "    if check(wp, K, mid):\n",
    "        ok = mid\n",
    "    else:\n",
    "        ng = mid\n",
    "        \n",
    "print(ok)"
   ]
  },
  {
   "cell_type": "code",
   "execution_count": null,
   "metadata": {},
   "outputs": [],
   "source": []
  }
 ],
 "metadata": {
  "kernelspec": {
   "display_name": "Python 3",
   "language": "python",
   "name": "python3"
  },
  "language_info": {
   "codemirror_mode": {
    "name": "ipython",
    "version": 3
   },
   "file_extension": ".py",
   "mimetype": "text/x-python",
   "name": "python",
   "nbconvert_exporter": "python",
   "pygments_lexer": "ipython3",
   "version": "3.6.5"
  }
 },
 "nbformat": 4,
 "nbformat_minor": 2
}
