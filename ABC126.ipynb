{
 "cells": [
  {
   "cell_type": "code",
   "execution_count": 5,
   "metadata": {},
   "outputs": [
    {
     "data": {
      "text/plain": [
       "'3.4.3 (default, Feb 16 2019, 21:55:40) \\n[GCC 4.2.1 Compatible Apple LLVM 10.0.0 (clang-1000.11.45.5)]'"
      ]
     },
     "execution_count": 5,
     "metadata": {},
     "output_type": "execute_result"
    }
   ],
   "source": [
    "import sys\n",
    "sys.version"
   ]
  },
  {
   "cell_type": "markdown",
   "metadata": {},
   "source": [
    "# A"
   ]
  },
  {
   "cell_type": "code",
   "execution_count": 2,
   "metadata": {},
   "outputs": [
    {
     "name": "stdin",
     "output_type": "stream",
     "text": [
      " 3 1\n",
      " ABC\n"
     ]
    },
    {
     "name": "stdout",
     "output_type": "stream",
     "text": [
      "aBC\n"
     ]
    }
   ],
   "source": [
    "(n, k) = map(int, input().split())\n",
    "s = list(input())\n",
    "s[k-1] = s[k-1].lower()\n",
    "print(\"\".join(s))"
   ]
  },
  {
   "cell_type": "markdown",
   "metadata": {},
   "source": [
    "# B"
   ]
  },
  {
   "cell_type": "code",
   "execution_count": 48,
   "metadata": {},
   "outputs": [
    {
     "name": "stdin",
     "output_type": "stream",
     "text": [
      " 0001\n"
     ]
    }
   ],
   "source": [
    "s = input()\n",
    "s = [s[0:2], s[2:4]]"
   ]
  },
  {
   "cell_type": "code",
   "execution_count": 49,
   "metadata": {},
   "outputs": [
    {
     "name": "stdout",
     "output_type": "stream",
     "text": [
      "YYMM\n"
     ]
    }
   ],
   "source": [
    "if (int(s[0]) > 12 or int(s[0]) == 0) and 1 <= int(s[1]) <= 12:\n",
    "    print('YYMM')\n",
    "elif (int(s[1]) > 12 or int(s[1]) == 0) and 1 <= int(s[0]) <= 12:\n",
    "    print('MMYY')\n",
    "elif 1 <= int(s[0]) <= 12 and 1 <= int(s[1]) <= 12:\n",
    "    print('AMBIGUOUS')\n",
    "else:\n",
    "    print('NA')"
   ]
  },
  {
   "cell_type": "markdown",
   "metadata": {},
   "source": [
    "# C"
   ]
  },
  {
   "cell_type": "code",
   "execution_count": 76,
   "metadata": {},
   "outputs": [
    {
     "name": "stdin",
     "output_type": "stream",
     "text": [
      " 100000 5\n"
     ]
    }
   ],
   "source": [
    "import math\n",
    "(n, k) = map(int, input().split())"
   ]
  },
  {
   "cell_type": "code",
   "execution_count": 77,
   "metadata": {},
   "outputs": [],
   "source": [
    "a = math.fsum([(1/n) * ((1/2)**math.ceil(math.log(k/i, 2))) for i in range(1, min(k, n+1))])"
   ]
  },
  {
   "cell_type": "code",
   "execution_count": 78,
   "metadata": {},
   "outputs": [
    {
     "name": "stdout",
     "output_type": "stream",
     "text": [
      "0.99997375\n"
     ]
    }
   ],
   "source": [
    "if n >= k:\n",
    "    print(a + (n+1-k)/n)\n",
    "else:\n",
    "    print(a)"
   ]
  },
  {
   "cell_type": "markdown",
   "metadata": {},
   "source": [
    "# D"
   ]
  },
  {
   "cell_type": "markdown",
   "metadata": {},
   "source": [
    "# E"
   ]
  },
  {
   "cell_type": "code",
   "execution_count": 145,
   "metadata": {},
   "outputs": [
    {
     "name": "stdin",
     "output_type": "stream",
     "text": [
      " 100000 1\n",
      " 1 100000 100\n"
     ]
    }
   ],
   "source": [
    "(n, m) = map(int, input().split())\n",
    "l = [list(map(int, input().split())) for _ in range(m)]"
   ]
  },
  {
   "cell_type": "code",
   "execution_count": 146,
   "metadata": {},
   "outputs": [
    {
     "data": {
      "text/plain": [
       "[[1, 100000, 100]]"
      ]
     },
     "execution_count": 146,
     "metadata": {},
     "output_type": "execute_result"
    }
   ],
   "source": [
    "l"
   ]
  },
  {
   "cell_type": "code",
   "execution_count": 147,
   "metadata": {},
   "outputs": [],
   "source": [
    "k = []\n",
    "j = list(range(1, n+1))"
   ]
  },
  {
   "cell_type": "code",
   "execution_count": 150,
   "metadata": {},
   "outputs": [],
   "source": [
    "for _l in l:\n",
    "    if _l[0] in j:\n",
    "        j.remove(_l[0])\n",
    "    if _l[1] in j:\n",
    "        j.remove(_l[1])\n",
    "    for _k in k:\n",
    "        if _l[0] in _k:\n",
    "            if _l[1] not in _k:\n",
    "                _k.append(_l[1])\n",
    "            break\n",
    "    else:\n",
    "        k.append([_l[0], _l[1]])"
   ]
  },
  {
   "cell_type": "code",
   "execution_count": 149,
   "metadata": {},
   "outputs": [
    {
     "data": {
      "text/plain": [
       "99999"
      ]
     },
     "execution_count": 149,
     "metadata": {},
     "output_type": "execute_result"
    }
   ],
   "source": [
    "print(len(k)+len(j))"
   ]
  },
  {
   "cell_type": "code",
   "execution_count": null,
   "metadata": {},
   "outputs": [],
   "source": []
  }
 ],
 "metadata": {
  "kernelspec": {
   "display_name": "Python 3",
   "language": "python",
   "name": "python3"
  },
  "language_info": {
   "codemirror_mode": {
    "name": "ipython",
    "version": 3
   },
   "file_extension": ".py",
   "mimetype": "text/x-python",
   "name": "python",
   "nbconvert_exporter": "python",
   "pygments_lexer": "ipython3",
   "version": "3.4.3"
  }
 },
 "nbformat": 4,
 "nbformat_minor": 2
}
