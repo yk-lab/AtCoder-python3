{
 "cells": [
  {
   "cell_type": "markdown",
   "metadata": {},
   "source": [
    "# A"
   ]
  },
  {
   "cell_type": "code",
   "execution_count": 4,
   "metadata": {},
   "outputs": [
    {
     "name": "stdout",
     "output_type": "stream",
     "text": [
      "1999999998\n"
     ]
    }
   ],
   "source": [
    "N = int(input())\n",
    "print(2 * N if N % 2 != 0 else N)"
   ]
  },
  {
   "cell_type": "markdown",
   "metadata": {},
   "source": [
    "# B"
   ]
  },
  {
   "cell_type": "code",
   "execution_count": 11,
   "metadata": {},
   "outputs": [
    {
     "name": "stdout",
     "output_type": "stream",
     "text": [
      "0\n"
     ]
    }
   ],
   "source": [
    "N = int(input())\n",
    "a = list(map(int, input().split()))\n",
    "print(max(a) - min(a))"
   ]
  },
  {
   "cell_type": "markdown",
   "metadata": {},
   "source": [
    "# C"
   ]
  },
  {
   "cell_type": "code",
   "execution_count": 28,
   "metadata": {},
   "outputs": [],
   "source": [
    "N = int(input())\n",
    "A = np.array(list(map(int, input().split())))\n",
    "B = np.array(list(range(int(A.mean()-(N//2)), int(A.mean()-(N//2))+N)))"
   ]
  },
  {
   "cell_type": "code",
   "execution_count": 29,
   "metadata": {},
   "outputs": [],
   "source": [
    "import math\n",
    "import numpy as np"
   ]
  },
  {
   "cell_type": "code",
   "execution_count": 30,
   "metadata": {},
   "outputs": [],
   "source": [
    "def calc(A, B):\n",
    "    return sum([abs(A[i]-B[i]) for i in range(len(A))])"
   ]
  },
  {
   "cell_type": "code",
   "execution_count": 39,
   "metadata": {},
   "outputs": [],
   "source": [
    "def n(A, B):\n",
    "    flag = True\n",
    "    prev = calc(A, B)\n",
    "    while flag:\n",
    "        B -= 1\n",
    "        c = calc(A, B)\n",
    "        if c < prev:\n",
    "            prev=c\n",
    "        else:\n",
    "            flag=False\n",
    "    return prev\n",
    "def p(A, B):\n",
    "    flag = True\n",
    "    prev = calc(A, B)\n",
    "    while flag:\n",
    "        B += 1\n",
    "        c = calc(A, B)\n",
    "        if c < prev:\n",
    "            prev=c\n",
    "        else:\n",
    "            flag=False\n",
    "    return prev"
   ]
  },
  {
   "cell_type": "code",
   "execution_count": 40,
   "metadata": {},
   "outputs": [
    {
     "name": "stdout",
     "output_type": "stream",
     "text": [
      "2\n"
     ]
    }
   ],
   "source": [
    "m = calc(A, B)\n",
    "_n = calc(A, B-1)\n",
    "_p = calc(A, B+1)\n",
    "if _n < m:\n",
    "    print(n(A, B-1))\n",
    "elif _p < m:\n",
    "    print(p(A, B-1))\n",
    "else:\n",
    "    print(m)"
   ]
  },
  {
   "cell_type": "code",
   "execution_count": 42,
   "metadata": {},
   "outputs": [
    {
     "data": {
      "text/plain": [
       "(12, 7, 2, 3, 8, 13)"
      ]
     },
     "execution_count": 42,
     "metadata": {},
     "output_type": "execute_result"
    }
   ],
   "source": [
    "calc(A, B-2), calc(A, B-1), calc(A, B), calc(A, B+1), calc(A, B+2), calc(A, B+3)"
   ]
  },
  {
   "cell_type": "markdown",
   "metadata": {},
   "source": [
    "# D"
   ]
  },
  {
   "cell_type": "code",
   "execution_count": 12,
   "metadata": {},
   "outputs": [],
   "source": [
    "N = int(input())\n",
    "A = list(map(int, input().split()))"
   ]
  },
  {
   "cell_type": "code",
   "execution_count": null,
   "metadata": {},
   "outputs": [],
   "source": []
  }
 ],
 "metadata": {
  "kernelspec": {
   "display_name": "Python 3",
   "language": "python",
   "name": "python3"
  },
  "language_info": {
   "codemirror_mode": {
    "name": "ipython",
    "version": 3
   },
   "file_extension": ".py",
   "mimetype": "text/x-python",
   "name": "python",
   "nbconvert_exporter": "python",
   "pygments_lexer": "ipython3",
   "version": "3.6.5"
  }
 },
 "nbformat": 4,
 "nbformat_minor": 2
}
