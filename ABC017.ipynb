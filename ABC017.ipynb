{
 "cells": [
  {
   "cell_type": "markdown",
   "metadata": {},
   "source": [
    "# ABC017"
   ]
  },
  {
   "cell_type": "markdown",
   "metadata": {},
   "source": [
    "## A - プロコン\n",
    "### 問題文\n",
    "> 高橋君はプロコン(ここでいうプロコンとは、グラフ上に適切にプロットする力を問うコンテストである)に参加している。\n",
    "> \n",
    "> 高橋君は 3 つの課題に取り組んだ。\n",
    "> \n",
    "> 課題ごとに配点が定められており、各課題ごとに 1 以上 10 以下の整数による評価が付けられる。評価の数字が X であるとき、その課題においては配点の X 割の得点が与えられる。\n",
    "> \n",
    "> 3 つの課題の配点と評価が与えられるので、高橋君が合計で何点獲得したのかを求めてほしい。\n",
    "\n",
    "[詳細](https://abc017.contest.atcoder.jp/tasks/abc017_1)"
   ]
  },
  {
   "cell_type": "code",
   "execution_count": 10,
   "metadata": {},
   "outputs": [
    {
     "name": "stdout",
     "output_type": "stream",
     "text": [
      "94\n"
     ]
    }
   ],
   "source": [
    "print(int(sum([_s * _e / 10 for _s, _e in [list(map(int, input().split())) for _ in range(3)]])))"
   ]
  },
  {
   "cell_type": "markdown",
   "metadata": {},
   "source": [
    "## B - choku語\n",
    "### 問題文\n",
    "> 高橋君は、ある日不思議な生物を見た。\n",
    "> \n",
    "> その生物は choku 語という言語を用いていることがわかった。\n",
    "> \n",
    "> 文字列 S が以下の条件を満たしているときに S は choku 語であると定義する。\n",
    "> \n",
    "> - 文字列 S が空文字列であるとき。\n",
    "> - 文字列 S が、choku 語である文字列 T の末尾に `ch` をつけた文字列であるとき。\n",
    "> - 文字列 S が、choku 語である文字列 T の末尾に `o` をつけた文字列であるとき。\n",
    "> - 文字列 S が、choku 語である文字列 T の末尾に `k` をつけた文字列であるとき。\n",
    "> - 文字列 S が、choku 語である文字列 T の末尾に `u` をつけた文字列であるとき。\n",
    "> \n",
    "> choku 語の理解を深めるため、与えられた文字列が choku 語であるかを判定するプログラムを作成することにした。\n",
    "\n",
    "[詳細](https://abc017.contest.atcoder.jp/tasks/abc017_2)"
   ]
  },
  {
   "cell_type": "code",
   "execution_count": 20,
   "metadata": {},
   "outputs": [
    {
     "name": "stdout",
     "output_type": "stream",
     "text": [
      "NO\n"
     ]
    }
   ],
   "source": [
    "import re\n",
    "print('YES' if re.match(r'^(?:ch|o|k|u)*$', input()) else 'NO')"
   ]
  },
  {
   "cell_type": "markdown",
   "metadata": {},
   "source": [
    "## C - ハイスコア\n",
    "### 問題文\n",
    "> 高橋君はあるゲームが大好きである。\n",
    "> \n",
    "> このゲームには N 個の遺跡があり、好きな順番に探索することができる。遺跡には 1 から N までの番号が付けられている。\n",
    "> \n",
    "> ゲーム中に宝石を獲得することがある。宝石は M 種類あり、1 から M まで番号が付けられている。\n",
    "> \n",
    "> 遺跡を探索することで報酬として得点といくつかの宝石を入手することができる。遺跡 i(1≦i≦N) を探索することで、得点 si 点を獲得し、番号が li 以上 ri 以下のすべての宝石を 1 つずつ獲得する。同じ遺跡を複数回探索することはできない。\n",
    "> \n",
    "> 獲得した宝石は捨てることができず、またすべての種類の宝石を 1 つ以上獲得してしまうと、魔王が復活するイベントが進行する。魔王が復活する際に探索していた遺跡で得られるはずの得点は消滅してしまう。\n",
    "> \n",
    "> 高橋君はスコアをできるだけ高くすることを目標としており、うまく探索する遺跡を選ぶことで、魔王が復活しない状態で得られる得点の合計値を最大化したい。\n",
    "> \n",
    "> 考えられる最大値はいくらか。\n",
    "\n",
    "[詳細](https://abc017.contest.atcoder.jp/tasks/abc017_3)"
   ]
  },
  {
   "cell_type": "code",
   "execution_count": 1,
   "metadata": {},
   "outputs": [],
   "source": [
    "N, M = list(map(int, input().split()))\n",
    "i = [list(map(int, input().split())) for _i in range(N)]"
   ]
  },
  {
   "cell_type": "markdown",
   "metadata": {},
   "source": [
    "## D - サプリメント\n",
    "### 問題文\n",
    "> 健康志向の高橋君は通販で購入したサプリメントを摂取することにした。\n",
    "> \n",
    "> サプリメントは N 個あり、1 から N まで番号が付けられている。\n",
    "> \n",
    "> また、サプリメントの味は M 種類あり、1 から M まで番号が付けられている。サプリメント i(1≦i≦N) の味は fi(1≦fi≦M) である。\n",
    "> \n",
    "> 高橋君はサプリメントを番号順に複数日かけて摂取する予定である。高橋君はサボらないように、サプリメントが 1 つ以上残っている場合はその日中に必ず 1 つ以上サプリメントを摂取しなければならないという規則を定めた。\n",
    "> \n",
    "> 高橋君は強靭な肉体を持っているため、1 日にどれだけサプリメントを摂取しても大丈夫だが、同じ味には飽きてしまうので、同じ日に同じ味のサプリメントを 2 つ以上摂取することはできない。\n",
    "> \n",
    "> 高橋君は、サプリメントの摂取方法の是非について吟味するため、このような条件下で全部で何通りの摂取方法があるかを知りたい。\n",
    "> \n",
    "> ここで 2 つの摂取方法についてそれらが違うというのは、ある日について摂取したサプリメントの番号の組み合わせが異なることを定義する。\n",
    "\n",
    "[詳細](https://abc017.contest.atcoder.jp/tasks/abc017_4)"
   ]
  },
  {
   "cell_type": "code",
   "execution_count": null,
   "metadata": {},
   "outputs": [],
   "source": []
  }
 ],
 "metadata": {
  "kernelspec": {
   "display_name": "Python 3",
   "language": "python",
   "name": "python3"
  },
  "language_info": {
   "codemirror_mode": {
    "name": "ipython",
    "version": 3
   },
   "file_extension": ".py",
   "mimetype": "text/x-python",
   "name": "python",
   "nbconvert_exporter": "python",
   "pygments_lexer": "ipython3",
   "version": "3.6.5"
  }
 },
 "nbformat": 4,
 "nbformat_minor": 2
}
